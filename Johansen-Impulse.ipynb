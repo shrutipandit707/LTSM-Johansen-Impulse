{
 "cells": [
  {
   "cell_type": "code",
   "execution_count": 1,
   "metadata": {},
   "outputs": [],
   "source": [
    "%matplotlib inline\n",
    "\n",
    "import numpy as np \n",
    "import pandas as pd\n",
    "import statsmodels.api as sm\n",
    "import matplotlib.pyplot as plt\n",
    "import warnings\n",
    "warnings.simplefilter('ignore')\n",
    "\n",
    "from statsmodels.tsa.stattools import adfuller \n",
    "from sklearn.metrics import mean_squared_error\n",
    "from statsmodels.tsa.vector_ar.vecm import coint_johansen #Johansen Cointegration test"
   ]
  },
  {
   "cell_type": "code",
   "execution_count": 2,
   "metadata": {},
   "outputs": [
    {
     "ename": "SyntaxError",
     "evalue": "invalid syntax (<ipython-input-2-f8811be2873e>, line 1)",
     "output_type": "error",
     "traceback": [
      "\u001b[1;36m  File \u001b[1;32m\"<ipython-input-2-f8811be2873e>\"\u001b[1;36m, line \u001b[1;32m1\u001b[0m\n\u001b[1;33m    There are two types of Johansen’s test: one uses trace (from linear algebra), the other a maximum eigenvalue approach (an eigenvalue is a special scalar; When you multiply a matrix by a vector and get the same vector as an answer, along with a new scalar, the scalar is called an eigenvalue).\u001b[0m\n\u001b[1;37m            ^\u001b[0m\n\u001b[1;31mSyntaxError\u001b[0m\u001b[1;31m:\u001b[0m invalid syntax\n"
     ]
    }
   ],
   "source": [
    "There are two types of Johansen’s test: one uses trace (from linear algebra), the other a maximum eigenvalue approach (an eigenvalue is a special scalar; When you multiply a matrix by a vector and get the same vector as an answer, along with a new scalar, the scalar is called an eigenvalue).\n",
    "\n",
    "Both forms of the test will determine if cointegration is present. The null hypothesis for both forms of test is that there are no cointegrating equations. The difference is in the alternate hypothesis: the trace test alternate hypothesis is simply that the number of cointegrating relationships is at least one (shown by the number of linear combinations). The maximum eigenvalue test has an alternate hypothesis of K0 + 1 (instead of K > K0). Rejecting the null hypothesis in this situation is basically stating there is only one combination of the non-stationary variables that gives a stationary process."
   ]
  },
  {
   "cell_type": "code",
   "execution_count": 3,
   "metadata": {},
   "outputs": [
    {
     "data": {
      "text/html": [
       "<div>\n",
       "<style scoped>\n",
       "    .dataframe tbody tr th:only-of-type {\n",
       "        vertical-align: middle;\n",
       "    }\n",
       "\n",
       "    .dataframe tbody tr th {\n",
       "        vertical-align: top;\n",
       "    }\n",
       "\n",
       "    .dataframe thead th {\n",
       "        text-align: right;\n",
       "    }\n",
       "</style>\n",
       "<table border=\"1\" class=\"dataframe\">\n",
       "  <thead>\n",
       "    <tr style=\"text-align: right;\">\n",
       "      <th></th>\n",
       "      <th>inv</th>\n",
       "      <th>inc</th>\n",
       "      <th>consump</th>\n",
       "      <th>qtr</th>\n",
       "      <th>ln_inv</th>\n",
       "      <th>dln_inv</th>\n",
       "      <th>ln_inc</th>\n",
       "      <th>dln_inc</th>\n",
       "      <th>ln_consump</th>\n",
       "      <th>dln_consump</th>\n",
       "    </tr>\n",
       "    <tr>\n",
       "      <th>qtr</th>\n",
       "      <th></th>\n",
       "      <th></th>\n",
       "      <th></th>\n",
       "      <th></th>\n",
       "      <th></th>\n",
       "      <th></th>\n",
       "      <th></th>\n",
       "      <th></th>\n",
       "      <th></th>\n",
       "      <th></th>\n",
       "    </tr>\n",
       "  </thead>\n",
       "  <tbody>\n",
       "    <tr>\n",
       "      <th>1960-01-01</th>\n",
       "      <td>180</td>\n",
       "      <td>451</td>\n",
       "      <td>415</td>\n",
       "      <td>1960-01-01</td>\n",
       "      <td>5.192957</td>\n",
       "      <td>NaN</td>\n",
       "      <td>6.111467</td>\n",
       "      <td>NaN</td>\n",
       "      <td>6.028278</td>\n",
       "      <td>NaN</td>\n",
       "    </tr>\n",
       "    <tr>\n",
       "      <th>1960-04-01</th>\n",
       "      <td>179</td>\n",
       "      <td>465</td>\n",
       "      <td>421</td>\n",
       "      <td>1960-04-01</td>\n",
       "      <td>5.187386</td>\n",
       "      <td>-0.005571</td>\n",
       "      <td>6.142037</td>\n",
       "      <td>0.030570</td>\n",
       "      <td>6.042633</td>\n",
       "      <td>0.014355</td>\n",
       "    </tr>\n",
       "    <tr>\n",
       "      <th>1960-07-01</th>\n",
       "      <td>185</td>\n",
       "      <td>485</td>\n",
       "      <td>434</td>\n",
       "      <td>1960-07-01</td>\n",
       "      <td>5.220356</td>\n",
       "      <td>0.032970</td>\n",
       "      <td>6.184149</td>\n",
       "      <td>0.042111</td>\n",
       "      <td>6.073044</td>\n",
       "      <td>0.030411</td>\n",
       "    </tr>\n",
       "    <tr>\n",
       "      <th>1960-10-01</th>\n",
       "      <td>192</td>\n",
       "      <td>493</td>\n",
       "      <td>448</td>\n",
       "      <td>1960-10-01</td>\n",
       "      <td>5.257495</td>\n",
       "      <td>0.037139</td>\n",
       "      <td>6.200509</td>\n",
       "      <td>0.016360</td>\n",
       "      <td>6.104793</td>\n",
       "      <td>0.031749</td>\n",
       "    </tr>\n",
       "    <tr>\n",
       "      <th>1961-01-01</th>\n",
       "      <td>211</td>\n",
       "      <td>509</td>\n",
       "      <td>459</td>\n",
       "      <td>1961-01-01</td>\n",
       "      <td>5.351858</td>\n",
       "      <td>0.094363</td>\n",
       "      <td>6.232448</td>\n",
       "      <td>0.031939</td>\n",
       "      <td>6.129050</td>\n",
       "      <td>0.024257</td>\n",
       "    </tr>\n",
       "  </tbody>\n",
       "</table>\n",
       "</div>"
      ],
      "text/plain": [
       "            inv  inc  consump        qtr    ln_inv   dln_inv    ln_inc  \\\n",
       "qtr                                                                      \n",
       "1960-01-01  180  451      415 1960-01-01  5.192957       NaN  6.111467   \n",
       "1960-04-01  179  465      421 1960-04-01  5.187386 -0.005571  6.142037   \n",
       "1960-07-01  185  485      434 1960-07-01  5.220356  0.032970  6.184149   \n",
       "1960-10-01  192  493      448 1960-10-01  5.257495  0.037139  6.200509   \n",
       "1961-01-01  211  509      459 1961-01-01  5.351858  0.094363  6.232448   \n",
       "\n",
       "             dln_inc  ln_consump  dln_consump  \n",
       "qtr                                            \n",
       "1960-01-01       NaN    6.028278          NaN  \n",
       "1960-04-01  0.030570    6.042633     0.014355  \n",
       "1960-07-01  0.042111    6.073044     0.030411  \n",
       "1960-10-01  0.016360    6.104793     0.031749  \n",
       "1961-01-01  0.031939    6.129050     0.024257  "
      ]
     },
     "execution_count": 3,
     "metadata": {},
     "output_type": "execute_result"
    }
   ],
   "source": [
    "dta = sm.datasets.webuse('lutkepohl2', 'https://www.stata-press.com/data/r12/') #German macro dataset by H.lutkepohl\n",
    "dta.index = dta.qtr\n",
    "dta.index.freq = dta.index.inferred_freq\n",
    "\n",
    "dta.head()"
   ]
  },
  {
   "cell_type": "code",
   "execution_count": 4,
   "metadata": {},
   "outputs": [],
   "source": [
    "#if det_order=0 and f=0, then we take out the constant from endog, and then we take out the constant from the diff equation. the first removes the mean of y, the second removes the mean of delta y, i.e. takes out the linear trend in y.\n",
    "#if det_order=1 and f=0, the first removes the linear trend, the second removes the constant in the first differences, which is again the linear trend.\n",
    "#if det_order=-1, then f=-1 and we don't remove any deterministic trend parts.\n",
    "\n",
    "\n",
    "joh_model1 = coint_johansen(dta[['ln_inv','ln_inc','ln_consump']],-1,1) # k_ar_diff +1 = K\n"
   ]
  },
  {
   "cell_type": "code",
   "execution_count": 5,
   "metadata": {},
   "outputs": [
    {
     "data": {
      "text/plain": [
       "<statsmodels.tsa.vector_ar.vecm.JohansenTestResult at 0x21cbfa15c88>"
      ]
     },
     "execution_count": 5,
     "metadata": {},
     "output_type": "execute_result"
    }
   ],
   "source": [
    "joh_model1"
   ]
  },
  {
   "cell_type": "code",
   "execution_count": 6,
   "metadata": {},
   "outputs": [
    {
     "data": {
      "text/plain": [
       "array([43.03085717,  9.35556926,  5.66105395])"
      ]
     },
     "execution_count": 6,
     "metadata": {},
     "output_type": "execute_result"
    }
   ],
   "source": [
    "joh_model1.lr2 #Max Eign Value Stats"
   ]
  },
  {
   "cell_type": "code",
   "execution_count": 7,
   "metadata": {},
   "outputs": [
    {
     "data": {
      "text/plain": [
       "array([58.04748038, 15.01662321,  5.66105395])"
      ]
     },
     "execution_count": 7,
     "metadata": {},
     "output_type": "execute_result"
    }
   ],
   "source": [
    "joh_model1.lr1 #Trace Stats"
   ]
  },
  {
   "cell_type": "code",
   "execution_count": 10,
   "metadata": {},
   "outputs": [
    {
     "data": {
      "text/plain": [
       "array([58.04748038, 15.01662321,  5.66105395])"
      ]
     },
     "execution_count": 10,
     "metadata": {},
     "output_type": "execute_result"
    }
   ],
   "source": [
    "joh_model1.trace_stat #Trace Stats"
   ]
  },
  {
   "cell_type": "code",
   "execution_count": 11,
   "metadata": {},
   "outputs": [
    {
     "data": {
      "text/plain": [
       "(92, 3)"
      ]
     },
     "execution_count": 11,
     "metadata": {},
     "output_type": "execute_result"
    }
   ],
   "source": [
    "dta[['ln_inv','ln_inc','ln_consump']].shape #Shape of Data"
   ]
  },
  {
   "cell_type": "code",
   "execution_count": 8,
   "metadata": {},
   "outputs": [],
   "source": [
    "def joh_output(res):\n",
    "    output = pd.DataFrame([res.lr2,res.lr1],\n",
    "                          index=['max_eig_stat',\"trace_stat\"])\n",
    "    print(output.T,'\\n')\n",
    "    print(\"Critical values(90%, 95%, 99%) of max_eig_stat\\n\",res.cvm,'\\n')\n",
    "    print(\"Critical values(90%, 95%, 99%) of trace_stat\\n\",res.cvt,'\\n')"
   ]
  },
  {
   "cell_type": "code",
   "execution_count": 9,
   "metadata": {},
   "outputs": [
    {
     "name": "stdout",
     "output_type": "stream",
     "text": [
      "   max_eig_stat  trace_stat\n",
      "0     43.030857   58.047480\n",
      "1      9.355569   15.016623\n",
      "2      5.661054    5.661054 \n",
      "\n",
      "Critical values(90%, 95%, 99%) of max_eig_stat\n",
      " [[15.7175 17.7961 22.2519]\n",
      " [ 9.4748 11.2246 15.0923]\n",
      " [ 2.9762  4.1296  6.9406]] \n",
      "\n",
      "Critical values(90%, 95%, 99%) of trace_stat\n",
      " [[21.7781 24.2761 29.5147]\n",
      " [10.4741 12.3212 16.364 ]\n",
      " [ 2.9762  4.1296  6.9406]] \n",
      "\n"
     ]
    }
   ],
   "source": [
    "joh_output(joh_model1)"
   ]
  },
  {
   "cell_type": "code",
   "execution_count": null,
   "metadata": {},
   "outputs": [],
   "source": [
    "#In the table, you should see 4 columns. The test column contains the test statistics, while the three other columns contain the critical values at a 10 percent, 5 percent, and a 1 percent level. For this case, as standard practice, we often use the 5 percent critical value as reference. The r in the table represents the rank and we know that this is some indication of the number of cointegrating relationships. When r = 0, the test stat 87.77 > 22. This means that we reject the null hypothesis which suggests that r > 0. As such, there is some cointegration present. When r <1, 21.64 > 15.67. This again means that we reject the null hypothesis which suggests that r > 1. Lastly, when r < 2, we fail to reject the null hypothesis because 7.89 < 9.24. Therefore, we conclude that there are at most 2 cointegrating relationships present."
   ]
  },
  {
   "cell_type": "code",
   "execution_count": 13,
   "metadata": {},
   "outputs": [],
   "source": [
    "#cvm = #Critical values (90%, 95%, 99%) of maximum eigenvalue statistic.\n",
    "\n",
    "#cvt = #Critical values (90%, 95%, 99%) of trace statistic\n",
    "traces = joh_model1.lr1\n",
    "maxeig=joh_model1.lr2\n",
    "cvts = joh_model1.cvt  ## 0: 90%  1:95% 2: 99%\n",
    "cvms = joh_model1.cvm   ## 0: 90%  1:95% 2: 99%"
   ]
  },
  {
   "cell_type": "code",
   "execution_count": 16,
   "metadata": {},
   "outputs": [
    {
     "data": {
      "text/plain": [
       "24.2761"
      ]
     },
     "execution_count": 16,
     "metadata": {},
     "output_type": "execute_result"
    }
   ],
   "source": [
    "cvts[0,1]"
   ]
  },
  {
   "cell_type": "code",
   "execution_count": 36,
   "metadata": {},
   "outputs": [
    {
     "name": "stdout",
     "output_type": "stream",
     "text": [
      "3\n"
     ]
    }
   ],
   "source": [
    "#Using Traces\n",
    "\n",
    "for i in range(3):\n",
    "    if traces[i] > cvts[i, 1]:\n",
    "        r = i + 1\n",
    "print(r)"
   ]
  },
  {
   "cell_type": "code",
   "execution_count": 37,
   "metadata": {},
   "outputs": [
    {
     "name": "stdout",
     "output_type": "stream",
     "text": [
      "3\n"
     ]
    }
   ],
   "source": [
    "#Using Eign Values\n",
    "\n",
    "for i in range(3):\n",
    "    if maxeig[i] > cvms[i, 1]:\n",
    "        r = i + 1\n",
    "print(r)"
   ]
  },
  {
   "cell_type": "code",
   "execution_count": 38,
   "metadata": {},
   "outputs": [],
   "source": [
    "from statsmodels.tsa.vector_ar.vecm import select_coint_rank"
   ]
  },
  {
   "cell_type": "code",
   "execution_count": 41,
   "metadata": {},
   "outputs": [
    {
     "name": "stdout",
     "output_type": "stream",
     "text": [
      "3\n"
     ]
    }
   ],
   "source": [
    "rank=select_coint_rank(dta[['ln_inv','ln_inc','ln_consump']],-1,1)\n",
    "print(rank.rank)\n",
    "#result=stt.coint(endog['Sales'], endog['Customers'])"
   ]
  },
  {
   "cell_type": "code",
   "execution_count": 34,
   "metadata": {},
   "outputs": [],
   "source": [
    "from statsmodels.tsa.stattools import coint"
   ]
  },
  {
   "cell_type": "code",
   "execution_count": 35,
   "metadata": {},
   "outputs": [
    {
     "data": {
      "text/plain": [
       "(-3.861632869897167,\n",
       " 0.01119643616982325,\n",
       " array([-4.02083922, -3.40409789, -3.09138506]))"
      ]
     },
     "execution_count": 35,
     "metadata": {},
     "output_type": "execute_result"
    }
   ],
   "source": [
    "coint(dta['ln_inv'],dta['ln_inc'])"
   ]
  },
  {
   "cell_type": "code",
   "execution_count": null,
   "metadata": {},
   "outputs": [],
   "source": [
    "There are two types of Johansen’s test: one uses trace (from linear algebra), the other a maximum eigenvalue approach (an eigenvalue is a special scalar; When you multiply a matrix by a vector and get the same vector as an answer, along with a new scalar, the scalar is called an eigenvalue).\n",
    "\n",
    "Both forms of the test will determine if cointegration is present. The null hypothesis for both forms of test is that there are no cointegrating equations. The difference is in the alternate hypothesis: the trace test alternate hypothesis is simply that the number of cointegrating relationships is at least one (shown by the number of linear combinations). The maximum eigenvalue test has an alternate hypothesis of K0 + 1 (instead of K > K0). Rejecting the null hypothesis in this situation is basically stating there is only one combination of the non-stationary variables that gives a stationary process."
   ]
  },
  {
   "cell_type": "code",
   "execution_count": null,
   "metadata": {},
   "outputs": [],
   "source": [
    "https://notes.quantecon.org/submission/5db25b54831cf4001af7e506\n",
    "    \n",
    "https://www.kaggle.com/saritm/vector-error-correction-fx"
   ]
  }
 ],
 "metadata": {
  "kernelspec": {
   "display_name": "Python 3",
   "language": "python",
   "name": "python3"
  },
  "language_info": {
   "codemirror_mode": {
    "name": "ipython",
    "version": 3
   },
   "file_extension": ".py",
   "mimetype": "text/x-python",
   "name": "python",
   "nbconvert_exporter": "python",
   "pygments_lexer": "ipython3",
   "version": "3.6.8"
  }
 },
 "nbformat": 4,
 "nbformat_minor": 2
}
